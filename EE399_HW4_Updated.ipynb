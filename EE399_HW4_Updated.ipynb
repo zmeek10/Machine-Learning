{
 "cells": [
  {
   "cell_type": "code",
   "execution_count": 3,
   "id": "8cbfa373",
   "metadata": {
    "scrolled": false
   },
   "outputs": [
    {
     "name": "stdout",
     "output_type": "stream",
     "text": [
      "Predictions: [52.82165377 54.39917382 55.97669388]\n"
     ]
    },
    {
     "name": "stderr",
     "output_type": "stream",
     "text": [
      "C:\\Users\\zmeek\\anaconda3\\lib\\site-packages\\sklearn\\neural_network\\_multilayer_perceptron.py:614: ConvergenceWarning: Stochastic Optimizer: Maximum iterations (200) reached and the optimization hasn't converged yet.\n",
      "  warnings.warn(\n"
     ]
    }
   ],
   "source": [
    "import numpy as np\n",
    "from sklearn.neural_network import MLPRegressor\n",
    "\n",
    "X = np.arange(0, 31)\n",
    "y = np.array([30, 35, 33, 32, 34, 37, 39, 38, 36, 36, 37, 39, 42, 45, 45, 41,\n",
    "              40, 39, 42, 44, 47, 49, 50, 49, 46, 48, 50, 53, 55, 54, 53])\n",
    "\n",
    "# Reshape X to a 2D array as required by scikit-learn\n",
    "X = X.reshape(-1, 1)\n",
    "\n",
    "# Create a three-layer feedforward neural network\n",
    "model = MLPRegressor(hidden_layer_sizes=(10, 10), activation='relu', random_state=42)\n",
    "\n",
    "# Fit the model to the data\n",
    "model.fit(X, y)\n",
    "\n",
    "# Predict on new data points\n",
    "new_X = np.array([32, 33, 34]).reshape(-1, 1)\n",
    "predictions = model.predict(new_X)\n",
    "\n",
    "print(\"Predictions:\", predictions)\n"
   ]
  },
  {
   "cell_type": "code",
   "execution_count": 4,
   "id": "d403daec",
   "metadata": {},
   "outputs": [
    {
     "name": "stdout",
     "output_type": "stream",
     "text": [
      "Train Error: 438.3500257969939\n",
      "Test Error: 48.583217462394366\n"
     ]
    },
    {
     "name": "stderr",
     "output_type": "stream",
     "text": [
      "C:\\Users\\zmeek\\anaconda3\\lib\\site-packages\\sklearn\\neural_network\\_multilayer_perceptron.py:614: ConvergenceWarning: Stochastic Optimizer: Maximum iterations (200) reached and the optimization hasn't converged yet.\n",
      "  warnings.warn(\n"
     ]
    }
   ],
   "source": [
    "from sklearn.model_selection import train_test_split\n",
    "from sklearn.metrics import mean_squared_error\n",
    "\n",
    "X_train = X[:20]\n",
    "y_train = y[:20]\n",
    "X_test = X[20:]\n",
    "y_test = y[20:]\n",
    "\n",
    "model.fit(X_train, y_train)\n",
    "train_predictions = model.predict(X_train)\n",
    "test_predictions = model.predict(X_test)\n",
    "\n",
    "train_error = mean_squared_error(y_train, train_predictions)\n",
    "test_error = mean_squared_error(y_test, test_predictions)\n",
    "\n",
    "print(\"Train Error:\", train_error)\n",
    "print(\"Test Error:\", test_error)"
   ]
  },
  {
   "cell_type": "code",
   "execution_count": 5,
   "id": "27478ed0",
   "metadata": {},
   "outputs": [
    {
     "name": "stdout",
     "output_type": "stream",
     "text": [
      "Train Error: 380.1138270601773\n",
      "Test Error: 295.06492454346755\n"
     ]
    },
    {
     "name": "stderr",
     "output_type": "stream",
     "text": [
      "C:\\Users\\zmeek\\anaconda3\\lib\\site-packages\\sklearn\\neural_network\\_multilayer_perceptron.py:614: ConvergenceWarning: Stochastic Optimizer: Maximum iterations (200) reached and the optimization hasn't converged yet.\n",
      "  warnings.warn(\n"
     ]
    }
   ],
   "source": [
    "X_train = np.concatenate((X[:10], X[-10:]))\n",
    "y_train = np.concatenate((y[:10], y[-10:]))\n",
    "X_test = X[10:20]\n",
    "y_test = y[10:20]\n",
    "\n",
    "model.fit(X_train, y_train)\n",
    "train_predictions = model.predict(X_train)\n",
    "test_predictions = model.predict(X_test)\n",
    "\n",
    "train_error = mean_squared_error(y_train, train_predictions)\n",
    "test_error = mean_squared_error(y_test, test_predictions)\n",
    "\n",
    "print(\"Train Error:\", train_error)\n",
    "print(\"Test Error:\", test_error)"
   ]
  },
  {
   "cell_type": "code",
   "execution_count": 6,
   "id": "afa2dd10",
   "metadata": {},
   "outputs": [
    {
     "name": "stderr",
     "output_type": "stream",
     "text": [
      "C:\\Users\\zmeek\\anaconda3\\lib\\site-packages\\sklearn\\neural_network\\_multilayer_perceptron.py:614: ConvergenceWarning: Stochastic Optimizer: Maximum iterations (10) reached and the optimization hasn't converged yet.\n",
      "  warnings.warn(\n"
     ]
    },
    {
     "name": "stdout",
     "output_type": "stream",
     "text": [
      "Feed-forward Neural Network Accuracy: 0.9412857142857143\n",
      "SVM Accuracy: 0.9738571428571429\n",
      "Decision Tree Accuracy: 0.8497142857142858\n"
     ]
    }
   ],
   "source": [
    "from sklearn.datasets import fetch_openml\n",
    "from sklearn.decomposition import PCA\n",
    "from sklearn.neural_network import MLPClassifier\n",
    "from sklearn.svm import SVC\n",
    "from sklearn.tree import DecisionTreeClassifier\n",
    "from sklearn.metrics import accuracy_score\n",
    "from sklearn.model_selection import train_test_split\n",
    "\n",
    "# Load MNIST dataset\n",
    "mnist = fetch_openml('mnist_784')\n",
    "\n",
    "# Split the data into training and test sets\n",
    "X_train, X_test, y_train, y_test = train_test_split(mnist.data, mnist.target, test_size=0.2, random_state=42)\n",
    "\n",
    "# Perform PCA on the training data\n",
    "pca = PCA(n_components=20)\n",
    "X_train_pca = pca.fit_transform(X_train)\n",
    "\n",
    "# Build a feed-forward neural network\n",
    "mlp = MLPClassifier(hidden_layer_sizes=(100,), max_iter=10, random_state=42)\n",
    "\n",
    "# Fit the neural network to the training data\n",
    "mlp.fit(X_train_pca, y_train)\n",
    "\n",
    "# Transform the test data using PCA\n",
    "X_test_pca = pca.transform(X_test)\n",
    "\n",
    "# Make predictions using the neural network\n",
    "mlp_predictions = mlp.predict(X_test_pca)\n",
    "\n",
    "# Calculate accuracy of the neural network\n",
    "mlp_accuracy = accuracy_score(y_test, mlp_predictions)\n",
    "\n",
    "# Build and fit the other classifiers\n",
    "svm = SVC(random_state=42)\n",
    "svm.fit(X_train_pca, y_train)\n",
    "svm_predictions = svm.predict(X_test_pca)\n",
    "svm_accuracy = accuracy_score(y_test, svm_predictions)\n",
    "\n",
    "dt = DecisionTreeClassifier(random_state=42)\n",
    "dt.fit(X_train_pca, y_train)\n",
    "dt_predictions = dt.predict(X_test_pca)\n",
    "dt_accuracy = accuracy_score(y_test, dt_predictions)\n",
    "\n",
    "# Compare the results\n",
    "print(\"Feed-forward Neural Network Accuracy:\", mlp_accuracy)\n",
    "print(\"SVM Accuracy:\", svm_accuracy)\n",
    "print(\"Decision Tree Accuracy:\", dt_accuracy)"
   ]
  }
 ],
 "metadata": {
  "kernelspec": {
   "display_name": "Python 3 (ipykernel)",
   "language": "python",
   "name": "python3"
  },
  "language_info": {
   "codemirror_mode": {
    "name": "ipython",
    "version": 3
   },
   "file_extension": ".py",
   "mimetype": "text/x-python",
   "name": "python",
   "nbconvert_exporter": "python",
   "pygments_lexer": "ipython3",
   "version": "3.9.7"
  }
 },
 "nbformat": 4,
 "nbformat_minor": 5
}
